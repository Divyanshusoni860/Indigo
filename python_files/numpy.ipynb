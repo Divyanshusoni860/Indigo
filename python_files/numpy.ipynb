{
 "cells": [
  {
   "cell_type": "markdown",
   "id": "dc1b4579",
   "metadata": {},
   "source": [
    "# Numpy"
   ]
  },
  {
   "cell_type": "markdown",
   "id": "ddb9cfcd",
   "metadata": {},
   "source": [
    "Importing Numpy"
   ]
  },
  {
   "cell_type": "code",
   "execution_count": 1,
   "id": "817ebaaf",
   "metadata": {},
   "outputs": [],
   "source": [
    "import numpy as np"
   ]
  },
  {
   "cell_type": "markdown",
   "id": "26e06c8a",
   "metadata": {},
   "source": [
    "Its a C API for connecting numpy with libraries written in C,C++,FORTRAN"
   ]
  },
  {
   "cell_type": "code",
   "execution_count": 2,
   "id": "8a88065a",
   "metadata": {},
   "outputs": [
    {
     "data": {
      "text/plain": [
       "array([[2, 3, 5, 6],\n",
       "       [6, 7, 8, 9]])"
      ]
     },
     "execution_count": 2,
     "metadata": {},
     "output_type": "execute_result"
    }
   ],
   "source": [
    "data = np.array([[2,3,5,6],[6,7,8,9]])\n",
    "data "
   ]
  },
  {
   "cell_type": "code",
   "execution_count": 4,
   "id": "d7a9952c",
   "metadata": {},
   "outputs": [
    {
     "data": {
      "text/plain": [
       "dtype('int64')"
      ]
     },
     "execution_count": 4,
     "metadata": {},
     "output_type": "execute_result"
    }
   ],
   "source": [
    "data.dtype"
   ]
  },
  {
   "cell_type": "code",
   "execution_count": 5,
   "id": "7f913810",
   "metadata": {},
   "outputs": [
    {
     "data": {
      "text/plain": [
       "array([[20, 30, 50, 60],\n",
       "       [60, 70, 80, 90]])"
      ]
     },
     "execution_count": 5,
     "metadata": {},
     "output_type": "execute_result"
    }
   ],
   "source": [
    "data*10"
   ]
  },
  {
   "cell_type": "markdown",
   "id": "1cef6804",
   "metadata": {},
   "source": [
    "It'll not apply until we pass with variable name like assign it"
   ]
  },
  {
   "cell_type": "code",
   "execution_count": 6,
   "id": "4563ba80",
   "metadata": {},
   "outputs": [
    {
     "data": {
      "text/plain": [
       "array([[2, 3, 5, 6],\n",
       "       [6, 7, 8, 9]])"
      ]
     },
     "execution_count": 6,
     "metadata": {},
     "output_type": "execute_result"
    }
   ],
   "source": [
    "data"
   ]
  },
  {
   "cell_type": "code",
   "execution_count": 7,
   "id": "919cfb22",
   "metadata": {},
   "outputs": [
    {
     "data": {
      "text/plain": [
       "(2, 4)"
      ]
     },
     "execution_count": 7,
     "metadata": {},
     "output_type": "execute_result"
    }
   ],
   "source": [
    "data.shape"
   ]
  },
  {
   "cell_type": "code",
   "execution_count": 9,
   "id": "d010d9fb",
   "metadata": {},
   "outputs": [
    {
     "name": "stdout",
     "output_type": "stream",
     "text": [
      "<class 'list'>\n"
     ]
    }
   ],
   "source": [
    "data1 = [2,3,4,5,6,7]\n",
    "print(type(data1))"
   ]
  },
  {
   "cell_type": "code",
   "execution_count": 10,
   "id": "c065f370",
   "metadata": {},
   "outputs": [
    {
     "data": {
      "text/plain": [
       "dtype('int64')"
      ]
     },
     "execution_count": 10,
     "metadata": {},
     "output_type": "execute_result"
    }
   ],
   "source": [
    "arr1 = np.array(data1)\n",
    "arr1.dtype"
   ]
  },
  {
   "cell_type": "markdown",
   "id": "163fde1c",
   "metadata": {},
   "source": [
    "It can get multi dimensional list as well even with float"
   ]
  },
  {
   "cell_type": "code",
   "execution_count": 11,
   "id": "07011dde",
   "metadata": {},
   "outputs": [
    {
     "name": "stdout",
     "output_type": "stream",
     "text": [
      "<class 'list'>\n"
     ]
    }
   ],
   "source": [
    "data2 = [[2.3,4.5,6.7],[0.5,5.6,0.9]]\n",
    "print(type(data2))"
   ]
  },
  {
   "cell_type": "code",
   "execution_count": 15,
   "id": "75c44bb1",
   "metadata": {},
   "outputs": [
    {
     "name": "stdout",
     "output_type": "stream",
     "text": [
      "[[2.3 4.5 6.7]\n",
      " [0.5 5.6 0.9]]\n"
     ]
    },
    {
     "data": {
      "text/plain": [
       "dtype('float64')"
      ]
     },
     "execution_count": 15,
     "metadata": {},
     "output_type": "execute_result"
    }
   ],
   "source": [
    "arr2 = np.array(data2)\n",
    "print(arr2)\n",
    "arr2.dtype"
   ]
  },
  {
   "cell_type": "code",
   "execution_count": 17,
   "id": "206bfc86",
   "metadata": {},
   "outputs": [
    {
     "data": {
      "text/plain": [
       "(2, 3)"
      ]
     },
     "execution_count": 17,
     "metadata": {},
     "output_type": "execute_result"
    }
   ],
   "source": [
    "arr2.shape"
   ]
  },
  {
   "cell_type": "markdown",
   "id": "54cf7e1a",
   "metadata": {},
   "source": [
    "We can create zeroes array"
   ]
  },
  {
   "cell_type": "code",
   "execution_count": 18,
   "id": "0445d051",
   "metadata": {},
   "outputs": [
    {
     "data": {
      "text/plain": [
       "array([0., 0., 0., 0., 0., 0., 0., 0., 0., 0., 0., 0., 0., 0., 0.])"
      ]
     },
     "execution_count": 18,
     "metadata": {},
     "output_type": "execute_result"
    }
   ],
   "source": [
    "np.zeros(15)"
   ]
  },
  {
   "cell_type": "markdown",
   "id": "852203bc",
   "metadata": {},
   "source": [
    "or an empty array even with multi dimensions"
   ]
  },
  {
   "cell_type": "code",
   "execution_count": 20,
   "id": "8b4b8dc8",
   "metadata": {},
   "outputs": [
    {
     "data": {
      "text/plain": [
       "array([[0., 0., 0.],\n",
       "       [0., 0., 0.],\n",
       "       [0., 0., 0.]])"
      ]
     },
     "execution_count": 20,
     "metadata": {},
     "output_type": "execute_result"
    }
   ],
   "source": [
    "np.empty((3,3))"
   ]
  },
  {
   "cell_type": "markdown",
   "id": "dc095b2a",
   "metadata": {},
   "source": [
    "Empty doesnt mean its always zero, it intializes with garbage values"
   ]
  },
  {
   "cell_type": "markdown",
   "id": "f9bc63bc",
   "metadata": {},
   "source": [
    "we can use arange to deploy numbers within a range"
   ]
  },
  {
   "cell_type": "code",
   "execution_count": 21,
   "id": "1ed4d586",
   "metadata": {},
   "outputs": [
    {
     "data": {
      "text/plain": [
       "array([ 0,  1,  2,  3,  4,  5,  6,  7,  8,  9, 10, 11, 12, 13, 14, 15, 16,\n",
       "       17, 18, 19])"
      ]
     },
     "execution_count": 21,
     "metadata": {},
     "output_type": "execute_result"
    }
   ],
   "source": [
    "np.arange(20)"
   ]
  },
  {
   "cell_type": "markdown",
   "id": "7b4e854b",
   "metadata": {},
   "source": [
    "Playing with data types"
   ]
  },
  {
   "cell_type": "code",
   "execution_count": 23,
   "id": "a27c19e1",
   "metadata": {},
   "outputs": [
    {
     "data": {
      "text/plain": [
       "array([1., 2., 3.])"
      ]
     },
     "execution_count": 23,
     "metadata": {},
     "output_type": "execute_result"
    }
   ],
   "source": [
    "arr3 = np.array([1,2,3],dtype=np.float64)\n",
    "arr3"
   ]
  },
  {
   "cell_type": "code",
   "execution_count": 24,
   "id": "5e8e5419",
   "metadata": {},
   "outputs": [
    {
     "data": {
      "text/plain": [
       "dtype('float64')"
      ]
     },
     "execution_count": 24,
     "metadata": {},
     "output_type": "execute_result"
    }
   ],
   "source": [
    "arr3.dtype"
   ]
  },
  {
   "cell_type": "markdown",
   "id": "18422862",
   "metadata": {},
   "source": [
    "Typecasting"
   ]
  },
  {
   "cell_type": "code",
   "execution_count": 26,
   "id": "0d09f003",
   "metadata": {},
   "outputs": [
    {
     "data": {
      "text/plain": [
       "array([1, 2, 3])"
      ]
     },
     "execution_count": 26,
     "metadata": {},
     "output_type": "execute_result"
    }
   ],
   "source": [
    "arr4 = arr3.astype(np.int64)\n",
    "arr4"
   ]
  },
  {
   "cell_type": "markdown",
   "id": "f2f26ce0",
   "metadata": {},
   "source": [
    "Now its again integer, also if we convert float to int, decimail part will be truncated only int will preserved"
   ]
  },
  {
   "cell_type": "code",
   "execution_count": 27,
   "id": "e7c5a1f6",
   "metadata": {},
   "outputs": [
    {
     "data": {
      "text/plain": [
       "array([3.01, 3.99, 3.5 ])"
      ]
     },
     "execution_count": 27,
     "metadata": {},
     "output_type": "execute_result"
    }
   ],
   "source": [
    "arr = np.array([3.01,3.99,3.5],dtype=np.float64)\n",
    "arr"
   ]
  },
  {
   "cell_type": "code",
   "execution_count": 30,
   "id": "510b0f87",
   "metadata": {},
   "outputs": [
    {
     "data": {
      "text/plain": [
       "array([3, 3, 3])"
      ]
     },
     "execution_count": 30,
     "metadata": {},
     "output_type": "execute_result"
    }
   ],
   "source": [
    "arr_int = arr.astype(np.int64)\n",
    "arr_int\n"
   ]
  },
  {
   "cell_type": "markdown",
   "id": "db481b4e",
   "metadata": {},
   "source": [
    "We can also extract numbers from strings"
   ]
  },
  {
   "cell_type": "code",
   "execution_count": 31,
   "id": "c59ae7c7",
   "metadata": {},
   "outputs": [
    {
     "data": {
      "text/plain": [
       "array(['23.4', '34', '90'], dtype='<U4')"
      ]
     },
     "execution_count": 31,
     "metadata": {},
     "output_type": "execute_result"
    }
   ],
   "source": [
    "numeric_strings = np.array([\"23.4\",\"34\",\"90\"],dtype=np.str_)\n",
    "numeric_strings"
   ]
  },
  {
   "cell_type": "code",
   "execution_count": 35,
   "id": "622797d3",
   "metadata": {},
   "outputs": [
    {
     "data": {
      "text/plain": [
       "array([23.4, 34. , 90. ])"
      ]
     },
     "execution_count": 35,
     "metadata": {},
     "output_type": "execute_result"
    }
   ],
   "source": [
    "arr = numeric_strings.astype(np.float64)\n",
    "arr"
   ]
  },
  {
   "cell_type": "markdown",
   "id": "70442087",
   "metadata": {},
   "source": [
    "We can rob data type from diffrent variables even if we dont know"
   ]
  },
  {
   "cell_type": "code",
   "execution_count": 36,
   "id": "0504a6e1",
   "metadata": {},
   "outputs": [
    {
     "data": {
      "text/plain": [
       "array([23, 34, 65, 67], dtype=int32)"
      ]
     },
     "execution_count": 36,
     "metadata": {},
     "output_type": "execute_result"
    }
   ],
   "source": [
    "which_variable = np.array([23,34,65,67],dtype=np.int32)\n",
    "which_variable"
   ]
  },
  {
   "cell_type": "code",
   "execution_count": 37,
   "id": "5e40ebcd",
   "metadata": {},
   "outputs": [
    {
     "data": {
      "text/plain": [
       "array([23.34,  0.76, 43.45], dtype=float32)"
      ]
     },
     "execution_count": 37,
     "metadata": {},
     "output_type": "execute_result"
    }
   ],
   "source": [
    "another_variable = np.array([23.34,0.76,43.45],dtype=np.float32)\n",
    "another_variable"
   ]
  },
  {
   "cell_type": "code",
   "execution_count": 39,
   "id": "08385df2",
   "metadata": {},
   "outputs": [
    {
     "data": {
      "text/plain": [
       "array([23,  0, 43], dtype=int32)"
      ]
     },
     "execution_count": 39,
     "metadata": {},
     "output_type": "execute_result"
    }
   ],
   "source": [
    "another_variable.astype(which_variable.dtype)"
   ]
  },
  {
   "cell_type": "markdown",
   "id": "219002c9",
   "metadata": {},
   "source": [
    "## *Vectorization*"
   ]
  },
  {
   "cell_type": "markdown",
   "id": "37880795",
   "metadata": {},
   "source": [
    "its arihmatic with numpy arrays"
   ]
  },
  {
   "cell_type": "code",
   "execution_count": 40,
   "id": "87fefa6d",
   "metadata": {},
   "outputs": [
    {
     "data": {
      "text/plain": [
       "array([[1, 2, 3],\n",
       "       [4, 5, 6]])"
      ]
     },
     "execution_count": 40,
     "metadata": {},
     "output_type": "execute_result"
    }
   ],
   "source": [
    "arr1 = np.array([[1,2,3],[4,5,6]])\n",
    "arr1"
   ]
  },
  {
   "cell_type": "code",
   "execution_count": 41,
   "id": "d9db31aa",
   "metadata": {},
   "outputs": [
    {
     "data": {
      "text/plain": [
       "array([[0, 0, 0],\n",
       "       [0, 0, 0]])"
      ]
     },
     "execution_count": 41,
     "metadata": {},
     "output_type": "execute_result"
    }
   ],
   "source": [
    "arr1-arr1"
   ]
  },
  {
   "cell_type": "code",
   "execution_count": 43,
   "id": "450c22bf",
   "metadata": {},
   "outputs": [
    {
     "data": {
      "text/plain": [
       "array([[1.        , 0.5       , 0.33333333],\n",
       "       [0.25      , 0.2       , 0.16666667]])"
      ]
     },
     "execution_count": 43,
     "metadata": {},
     "output_type": "execute_result"
    }
   ],
   "source": [
    "1/arr1"
   ]
  },
  {
   "cell_type": "code",
   "execution_count": 44,
   "id": "ce21472a",
   "metadata": {},
   "outputs": [
    {
     "data": {
      "text/plain": [
       "array([[ 5, 10, 15],\n",
       "       [20, 25, 30]])"
      ]
     },
     "execution_count": 44,
     "metadata": {},
     "output_type": "execute_result"
    }
   ],
   "source": [
    "arr1*5"
   ]
  },
  {
   "cell_type": "code",
   "execution_count": 45,
   "id": "da911567",
   "metadata": {},
   "outputs": [
    {
     "data": {
      "text/plain": [
       "array([[ 1,  4,  9],\n",
       "       [16, 25, 36]])"
      ]
     },
     "execution_count": 45,
     "metadata": {},
     "output_type": "execute_result"
    }
   ],
   "source": [
    "arr1**2"
   ]
  },
  {
   "cell_type": "code",
   "execution_count": 46,
   "id": "eac11ffe",
   "metadata": {},
   "outputs": [
    {
     "data": {
      "text/plain": [
       "array([[11, 22, 33],\n",
       "       [44, 55, 66]])"
      ]
     },
     "execution_count": 46,
     "metadata": {},
     "output_type": "execute_result"
    }
   ],
   "source": [
    "arr2 = np.array([[11,22,33],[44,55,66]])\n",
    "arr2"
   ]
  },
  {
   "cell_type": "code",
   "execution_count": 49,
   "id": "cb1873b9",
   "metadata": {},
   "outputs": [
    {
     "data": {
      "text/plain": [
       "array([[ 11,  44,  99],\n",
       "       [176, 275, 396]])"
      ]
     },
     "execution_count": 49,
     "metadata": {},
     "output_type": "execute_result"
    }
   ],
   "source": [
    "arr1*arr2"
   ]
  },
  {
   "cell_type": "markdown",
   "id": "76789fb4",
   "metadata": {},
   "source": [
    "we casn make a boolean out of it"
   ]
  },
  {
   "cell_type": "code",
   "execution_count": 50,
   "id": "723f72d0",
   "metadata": {},
   "outputs": [
    {
     "data": {
      "text/plain": [
       "array([[False,  True, False],\n",
       "       [ True, False,  True]])"
      ]
     },
     "execution_count": 50,
     "metadata": {},
     "output_type": "execute_result"
    }
   ],
   "source": [
    "arr1%2==0"
   ]
  },
  {
   "cell_type": "code",
   "execution_count": 51,
   "id": "2cd6f890",
   "metadata": {},
   "outputs": [
    {
     "data": {
      "text/plain": [
       "array([[ True,  True,  True],\n",
       "       [ True,  True,  True]])"
      ]
     },
     "execution_count": 51,
     "metadata": {},
     "output_type": "execute_result"
    }
   ],
   "source": [
    "arr2>arr1"
   ]
  },
  {
   "cell_type": "code",
   "execution_count": null,
   "id": "f6d10aa3",
   "metadata": {},
   "outputs": [],
   "source": [
    "\n"
   ]
  },
  {
   "cell_type": "code",
   "execution_count": null,
   "id": "4de2e9d6",
   "metadata": {},
   "outputs": [],
   "source": []
  },
  {
   "cell_type": "code",
   "execution_count": null,
   "id": "f272e7fa",
   "metadata": {},
   "outputs": [],
   "source": []
  },
  {
   "cell_type": "code",
   "execution_count": null,
   "id": "50a3e39d",
   "metadata": {},
   "outputs": [],
   "source": []
  }
 ],
 "metadata": {
  "kernelspec": {
   "display_name": "Python 3",
   "language": "python",
   "name": "python3"
  },
  "language_info": {
   "codemirror_mode": {
    "name": "ipython",
    "version": 3
   },
   "file_extension": ".py",
   "mimetype": "text/x-python",
   "name": "python",
   "nbconvert_exporter": "python",
   "pygments_lexer": "ipython3",
   "version": "3.13.2"
  }
 },
 "nbformat": 4,
 "nbformat_minor": 5
}
